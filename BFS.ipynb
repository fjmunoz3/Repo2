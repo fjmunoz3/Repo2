{
 "cells": [
  {
   "cell_type": "markdown",
   "metadata": {},
   "source": [
    "# grafo:\n",
    "self diccionario: 'A0','A1',... \n",
    "\n",
    "\n",
    "A0: nodo(.nombre,cordenadas(x,y),costo(n/X),connections=[])"
   ]
  },
  {
   "cell_type": "code",
   "execution_count": 1,
   "metadata": {},
   "outputs": [],
   "source": [
    "from collections import deque\n",
    "texto = open('mapa.txt','r')\n",
    "a = texto.read()\n",
    "aux = a.split('\\n')\n",
    "def sumador(strin):\n",
    "    if strin != \"X\" and not strin.isnumeric():\n",
    "        spl = strin.split('+')\n",
    "\n",
    "        suma = []\n",
    "\n",
    "        def sumeta(t):\n",
    "    #        global suma\n",
    "\n",
    "            try:\n",
    "                suma.append(int(t))\n",
    "            except ValueError:\n",
    "                spl3= t.split('-')\n",
    "                suma.append(int(spl3[0])) \n",
    "                suma.append(-int(spl3[1]))\n",
    "                if len(spl3) == 3:                        \n",
    "                    suma.append(-int(spl3[2]))\n",
    "    #    return sum(suma)\n",
    "            return suma\n",
    "\n",
    "        return sum(list(map(sumeta,spl))[-1])\n",
    "\n",
    "    if strin.isnumeric():\n",
    "        return int(strin)\n",
    "    return strin\n",
    "aux2 = [x.split(',') for x in aux]\n",
    "aux3 = [list(filter(lambda x: x not in 'QWERTYUIOPASDFGHJKLZCVBNM', y.split(','))) for y in aux]\n",
    "aux4 = [['X'if letra in '!”#$%&()=?' else letra for letra in linea] for linea in aux3  ]\n",
    "mapafinal = [[sumador(letra) for letra in linea] for linea in aux4]\n",
    "a = str(mapafinal)\n",
    "escribir = open('arreglado.txt','w')\n",
    "escribir.write(a)\n",
    "\n",
    "matriz= [[1,1,'X',2,5,3,'X',2,7,'X'],[1,'X',6,7,3,'X',4,3,'X',2],[1,0,'X',7,3,'X',1,2,4,'X']]\n",
    "\n",
    "class Grafo:\n",
    "    def __init__(self,dimensiones=(0,0)):\n",
    "        self.nodos={}\n",
    "        self.dimensiones=dimensiones\n",
    "         \n",
    "    def add_vertex(self,nodo):  #valor es una instancia de Nodo\n",
    "        self.nodos[nodo.nombre]= nodo\n",
    "\n",
    "    def adjacent(x,y):\n",
    "        return x in self.nodos[y.nombre].connections #si x está en las conexiones del nodo y (al cual accedemos por su nombre)\n",
    "        #esto es un booleano\n",
    "        \n",
    "    def neighbors(x):\n",
    "        return nodos[x.nombre].connections\n",
    "    \n",
    "    def add_neighbors(self):\n",
    "        candidatos=[(-1,-1),(0,-1),(0,1),\n",
    "                    (1,-1),(-1,0),(1,0),\n",
    "                    (-1,1),(1,1)]                    #basado en la ayudantía del 10/05\n",
    "\n",
    "        for nodo in self.nodos.values():\n",
    "            \n",
    "            for diffx,diffy in candidatos:\n",
    "                vecino_x= nodo.coordenadas[0] + diffx   #movimiento vertical\n",
    "                vecino_y= nodo.coordenadas[1] + diffy   #Movimiento horizontal\n",
    "                    \n",
    "            #recordemos que las dimensiones son (n_filas,n_columnas). x no puede ser mayor a n_columnas=dimensiones[1]\n",
    "                    \n",
    "                if (0 <= vecino_x < dimensiones[1]) and (0 <= vecino_y < dimensiones[0]):\n",
    "                   \n",
    "                    nombre_vecino= numero_a_letra(vecino_y) + str(vecino_x)    #string del tipo \"B5\"\n",
    "                    nodo.connections.append(self.nodos[nombre_vecino])         #probablemente esto no es eficiente, veremos si podemos prescindir de él después\n",
    "            \n",
    "class Node:\n",
    "    \n",
    "    def __init__(self, nombre, coordenadas, costo):  #nombre es A0, D3 etc.\n",
    "        self.nombre = nombre\n",
    "        self.coordenadas= coordenadas\n",
    "        self.costo = costo              #costo es un número o una X\n",
    "        self.connections = []       \n",
    "        \n",
    "    def add_neighbor(x):\n",
    "        self.connections.append(x)\n",
    "    \n",
    " \n",
    "#CREACIÓN DEL GRAFO\n",
    "\n",
    "#(1) Función necesaria\n",
    "def numero_a_letra(numero):                 #número no puede ser superior a 27 (número de letras del alfabeto)\n",
    "    alfabeto=\"ABCDEFGHIJKLMNOPQRSTUVWXYZ\"   #Next:completar el alfabeto\n",
    "    return alfabeto[numero]\n",
    "\n",
    "#(2)Creamos el mapa\n",
    "dimensiones=(len(matriz),len(matriz[0]))\n",
    "Mapa= Grafo(dimensiones)\n",
    "\n",
    "#(3)Llenamos el mapa\n",
    "for fila in range(len(matriz)):\n",
    "    for columna in range(len(matriz[fila])):\n",
    "        nombre= numero_a_letra(fila) + str(columna)    #así obtenemos algo como B5, C2, etc. \n",
    "        coordenadas=(columna,fila)                     #\n",
    "        costo= matriz[fila][columna]\n",
    "        nodo= Node(nombre,coordenadas,costo)\n",
    "        Mapa.add_vertex(nodo)\n",
    "\n",
    "#(4)Creamos las conexiones (cada nodo se relaciona con su vecino)\n",
    "Mapa.add_neighbors()"
   ]
  },
  {
   "cell_type": "code",
   "execution_count": null,
   "metadata": {},
   "outputs": [],
   "source": []
  },
  {
   "cell_type": "code",
   "execution_count": 2,
   "metadata": {},
   "outputs": [
    {
     "name": "stdout",
     "output_type": "stream",
     "text": [
      "[1, 1, 'X', 2, 5, 3, 'X', 2, 7, 'X'] \n",
      "\n",
      "[1, 'X', 6, 7, 3, 'X', 4, 3, 'X', 2] \n",
      "\n",
      "[1, 0, 'X', 7, 3, 'X', 1, 2, 4, 'X'] \n",
      "\n"
     ]
    }
   ],
   "source": [
    "\n",
    "for i in matriz:\n",
    "    print(i,'\\n')"
   ]
  },
  {
   "cell_type": "code",
   "execution_count": 3,
   "metadata": {},
   "outputs": [],
   "source": [
    "def bfs_obstaculo(graph, root):     ## adaptado de stackexchange\n",
    "    visited, queue = [], [root]\n",
    "    while queue:\n",
    "        vertex = queue.pop(0)\n",
    "        for w in graph.nodos[vertex.nombre].connections:\n",
    "            if w.costo == 'X':\n",
    "                print('El obstáculo más cercano se encuentra en el punto: {}'.format(w.nombre))\n",
    "                return w.nombre\n",
    "            if w not in visited:                \n",
    "                visited.append(w)\n",
    "                queue.append(w)"
   ]
  },
  {
   "cell_type": "code",
   "execution_count": 4,
   "metadata": {},
   "outputs": [
    {
     "name": "stdout",
     "output_type": "stream",
     "text": [
      "El obstáculo más cercano se encuentra en el punto: B8\n"
     ]
    },
    {
     "data": {
      "text/plain": [
       "'B8'"
      ]
     },
     "execution_count": 4,
     "metadata": {},
     "output_type": "execute_result"
    }
   ],
   "source": [
    "bfs_obstaculo(Mapa,Mapa.nodos['C7'])"
   ]
  },
  {
   "cell_type": "code",
   "execution_count": 5,
   "metadata": {},
   "outputs": [],
   "source": [
    "\n",
    "\n",
    "#print(parents)\n",
    "def distancia_minima(graph,start,goal):\n",
    "    def breadth_first_search_3(graph, start, goal):     #Gracias redblobgames\n",
    "        frontier = deque()\n",
    "        frontier.append(start)\n",
    "        came_from = {}\n",
    "        came_from[start] = None\n",
    "    \n",
    "        while frontier:\n",
    "            current = frontier.popleft()\n",
    "        \n",
    "            if current == goal:\n",
    "            \n",
    "                break\n",
    "        \n",
    "            for next in graph.nodos[current.nombre].connections:\n",
    "                if next.costo == 'X':\n",
    "                    came_from[next] = None\n",
    "                if next not in came_from:\n",
    "                    frontier.append(next)\n",
    "                    came_from[next] = current\n",
    "    \n",
    "        return came_from\n",
    "    parents = breadth_first_search_3(graph, start,goal)\n",
    "\n",
    "    a = goal\n",
    "    i = 0\n",
    "    lista =[] \n",
    "    while a != start:\n",
    "        lista.append(a.nombre)\n",
    "        a = parents[a]\n",
    "        i+=1\n",
    "    lista.reverse()\n",
    "    print('La ruta mas corta es: {}'.format(start.nombre),end='')\n",
    "    for i in lista:\n",
    "        print(' ->',i,end='')\n",
    "    return i, lista\n",
    "    "
   ]
  },
  {
   "cell_type": "code",
   "execution_count": 6,
   "metadata": {},
   "outputs": [
    {
     "name": "stdout",
     "output_type": "stream",
     "text": [
      "La ruta mas corta es: A0 -> A1 -> B2 -> A3 -> A4 -> A5 -> B6 -> C6"
     ]
    },
    {
     "data": {
      "text/plain": [
       "('C6', ['A1', 'B2', 'A3', 'A4', 'A5', 'B6', 'C6'])"
      ]
     },
     "execution_count": 6,
     "metadata": {},
     "output_type": "execute_result"
    }
   ],
   "source": [
    "distancia_minima(Mapa, Mapa.nodos['A0'], Mapa.nodos['C6'])\n"
   ]
  },
  {
   "cell_type": "code",
   "execution_count": null,
   "metadata": {},
   "outputs": [],
   "source": []
  }
 ],
 "metadata": {
  "kernelspec": {
   "display_name": "Python 3",
   "language": "python",
   "name": "python3"
  },
  "language_info": {
   "codemirror_mode": {
    "name": "ipython",
    "version": 3
   },
   "file_extension": ".py",
   "mimetype": "text/x-python",
   "name": "python",
   "nbconvert_exporter": "python",
   "pygments_lexer": "ipython3",
   "version": "3.6.4"
  }
 },
 "nbformat": 4,
 "nbformat_minor": 2
}
