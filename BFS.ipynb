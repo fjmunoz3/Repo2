{
 "cells": [
  {
   "cell_type": "markdown",
   "metadata": {},
   "source": [
    "# grafo:\n",
    "self diccionario: 'A0','A1',... \n",
    "\n",
    "\n",
    "A0: nodo(.nombre,cordenadas(x,y),costo(n/X),connections=[])"
   ]
  },
  {
   "cell_type": "code",
   "execution_count": 3,
   "metadata": {},
   "outputs": [],
   "source": [
    "from collections import deque\n",
    "texto = open('mapa.txt','r')\n",
    "a = texto.read()\n",
    "aux = a.split('\\n')\n",
    "def sumador(strin):\n",
    "    if strin != \"X\" and not strin.isnumeric():\n",
    "        spl = strin.split('+')\n",
    "\n",
    "        suma = []\n",
    "\n",
    "        def sumeta(t):\n",
    "    #        global suma\n",
    "\n",
    "            try:\n",
    "                suma.append(int(t))\n",
    "            except ValueError:\n",
    "                spl3= t.split('-')\n",
    "                suma.append(int(spl3[0])) \n",
    "                suma.append(-int(spl3[1]))\n",
    "                if len(spl3) == 3:                        \n",
    "                    suma.append(-int(spl3[2]))\n",
    "    #    return sum(suma)\n",
    "            return suma\n",
    "\n",
    "        return sum(list(map(sumeta,spl))[-1])\n",
    "\n",
    "    if strin.isnumeric():\n",
    "        return int(strin)\n",
    "    return strin\n",
    "aux2 = [x.split(',') for x in aux]\n",
    "aux3 = [list(filter(lambda x: x not in 'QWERTYUIOPASDFGHJKLZCVBNM', y.split(','))) for y in aux]\n",
    "aux4 = [['X'if letra in '!”#$%&()=?' else letra for letra in linea] for linea in aux3  ]\n",
    "mapafinal = [[sumador(letra) for letra in linea] for linea in aux4]\n",
    "a = str(mapafinal)\n",
    "escribir = open('arreglado.txt','w')\n",
    "escribir.write(a)\n",
    "\n",
    "matriz= [['X',1,4,2],[1,'X',7,3],[1,0,'X',7]]\n",
    "\n",
    "class Grafo:\n",
    "    def __init__(self,dimensiones=(0,0)):\n",
    "        self.nodos={}\n",
    "        self.dimensiones=dimensiones\n",
    "         \n",
    "    def add_vertex(self,nodo):  #valor es una instancia de Nodo\n",
    "        self.nodos[nodo.nombre]= nodo\n",
    "\n",
    "    def adjacent(x,y):\n",
    "        return x in self.nodos[y.nombre].connections #si x está en las conexiones del nodo y (al cual accedemos por su nombre)\n",
    "        #esto es un booleano\n",
    "        \n",
    "    def neighbors(x):\n",
    "        return nodos[x.nombre].connections\n",
    "    \n",
    "    def add_neighbors(self):\n",
    "        candidatos=[(-1,-1),(0,-1),(0,1),\n",
    "                    (1,-1),(-1,0),(1,0),\n",
    "                    (-1,1),(1,1)]                    #basado en la ayudantía del 10/05\n",
    "\n",
    "        for nodo in self.nodos.values():\n",
    "            \n",
    "            for diffx,diffy in candidatos:\n",
    "                vecino_x= nodo.coordenadas[0] + diffx   #movimiento vertical\n",
    "                vecino_y= nodo.coordenadas[1] + diffy   #Movimiento horizontal\n",
    "                    \n",
    "            #recordemos que las dimensiones son (n_filas,n_columnas). x no puede ser mayor a n_columnas=dimensiones[1]\n",
    "                    \n",
    "                if (0 <= vecino_x < dimensiones[1]) and (0 <= vecino_y < dimensiones[0]):\n",
    "                   \n",
    "                    nombre_vecino= numero_a_letra(vecino_y) + str(vecino_x)    #string del tipo \"B5\"\n",
    "                    nodo.connections.append(self.nodos[nombre_vecino])         #probablemente esto no es eficiente, veremos si podemos prescindir de él después\n",
    "            \n",
    "class Node:\n",
    "    \n",
    "    def __init__(self, nombre, coordenadas, costo):  #nombre es A0, D3 etc.\n",
    "        self.nombre = nombre\n",
    "        self.coordenadas= coordenadas\n",
    "        self.costo = costo              #costo es un número o una X\n",
    "        self.connections = []       \n",
    "        \n",
    "    def add_neighbor(x):\n",
    "        self.connections.append(x)\n",
    "    \n",
    " \n",
    "#CREACIÓN DEL GRAFO\n",
    "\n",
    "#(1) Función necesaria\n",
    "def numero_a_letra(numero):                 #número no puede ser superior a 27 (número de letras del alfabeto)\n",
    "    alfabeto=\"ABCDEFGHIJKLMNOPQRSTUVWXYZ\"   #Next:completar el alfabeto\n",
    "    return alfabeto[numero]\n",
    "\n",
    "#(2)Creamos el mapa\n",
    "dimensiones=(len(matriz),len(matriz[0]))\n",
    "Mapa= Grafo(dimensiones)\n",
    "\n",
    "#(3)Llenamos el mapa\n",
    "for fila in range(len(matriz)):\n",
    "    for columna in range(len(matriz[fila])):\n",
    "        nombre= numero_a_letra(fila) + str(columna)    #así obtenemos algo como B5, C2, etc. \n",
    "        coordenadas=(columna,fila)                     #\n",
    "        costo= matriz[fila][columna]\n",
    "        nodo= Node(nombre,coordenadas,costo)\n",
    "        Mapa.add_vertex(nodo)\n",
    "\n",
    "#(4)Creamos las conexiones (cada nodo se relaciona con su vecino)\n",
    "Mapa.add_neighbors()"
   ]
  },
  {
   "cell_type": "code",
   "execution_count": 9,
   "metadata": {},
   "outputs": [],
   "source": [
    "for nodo in Mapa.nodos.values():\n",
    "    print(nodo.nombre, nodo.costo,':')\n",
    "    for i in nodo.connections:\n",
    "        print(i.nombre)\n",
    "    print('\\n')"
   ]
  },
  {
   "cell_type": "code",
   "execution_count": 11,
   "metadata": {},
   "outputs": [
    {
     "data": {
      "text/plain": [
       "2"
      ]
     },
     "execution_count": 11,
     "metadata": {},
     "output_type": "execute_result"
    }
   ],
   "source": []
  },
  {
   "cell_type": "code",
   "execution_count": 27,
   "metadata": {},
   "outputs": [],
   "source": []
  },
  {
   "cell_type": "code",
   "execution_count": 28,
   "metadata": {},
   "outputs": [
    {
     "data": {
      "text/plain": [
       "{(0, 0): (0, 1),\n",
       " (0, 1): None,\n",
       " (0, 2): (0, 1),\n",
       " (0, 3): (0, 2),\n",
       " (0, 4): (0, 3),\n",
       " (0, 5): (0, 4),\n",
       " (1, 0): (1, 1),\n",
       " (1, 1): (0, 1),\n",
       " (1, 2): (1, 1),\n",
       " (1, 3): (1, 2),\n",
       " (1, 4): (1, 3),\n",
       " (2, 0): (1, 0),\n",
       " (2, 1): (1, 1),\n",
       " (2, 2): (1, 2),\n",
       " (2, 3): (2, 2),\n",
       " (2, 4): (2, 3),\n",
       " (3, 0): (2, 0),\n",
       " (3, 1): (2, 1),\n",
       " (3, 2): (2, 2),\n",
       " (3, 3): (2, 3),\n",
       " (4, 1): (3, 1)}"
      ]
     },
     "execution_count": 28,
     "metadata": {},
     "output_type": "execute_result"
    }
   ],
   "source": []
  },
  {
   "cell_type": "code",
   "execution_count": 22,
   "metadata": {},
   "outputs": [],
   "source": []
  },
  {
   "cell_type": "code",
   "execution_count": null,
   "metadata": {},
   "outputs": [],
   "source": []
  }
 ],
 "metadata": {
  "kernelspec": {
   "display_name": "Python 3",
   "language": "python",
   "name": "python3"
  },
  "language_info": {
   "codemirror_mode": {
    "name": "ipython",
    "version": 3
   },
   "file_extension": ".py",
   "mimetype": "text/x-python",
   "name": "python",
   "nbconvert_exporter": "python",
   "pygments_lexer": "ipython3",
   "version": "3.6.4"
  }
 },
 "nbformat": 4,
 "nbformat_minor": 2
}
