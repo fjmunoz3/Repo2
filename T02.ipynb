{
 "cells": [
  {
   "cell_type": "code",
   "execution_count": 201,
   "metadata": {},
   "outputs": [
    {
     "data": {
      "text/plain": [
       "243"
      ]
     },
     "execution_count": 201,
     "metadata": {},
     "output_type": "execute_result"
    }
   ],
   "source": [
    "texto = open('mapa.txt','r')\n",
    "a = texto.read()\n",
    "aux = a.split('\\n')\n",
    "def sumador(strin):\n",
    "    if strin != \"X\" and not strin.isnumeric():\n",
    "        spl = strin.split('+')\n",
    "\n",
    "        suma = []\n",
    "\n",
    "        def sumeta(t):\n",
    "    #        global suma\n",
    "\n",
    "            try:\n",
    "                suma.append(int(t))\n",
    "            except ValueError:\n",
    "                spl3= t.split('-')\n",
    "                suma.append(int(spl3[0])) \n",
    "                suma.append(-int(spl3[1]))\n",
    "                if len(spl3) == 3:                        \n",
    "                    suma.append(-int(spl3[2]))\n",
    "    #    return sum(suma)\n",
    "            return suma\n",
    "\n",
    "        return sum(list(map(sumeta,spl))[-1])\n",
    "\n",
    "    if strin.isnumeric():\n",
    "        return int(strin)\n",
    "    return strin\n",
    "aux2 = [x.split(',') for x in aux]\n",
    "aux3 = [list(filter(lambda x: x not in 'QWERTYUIOPASDFGHJKLZCVBNM', y.split(','))) for y in aux]\n",
    "aux4 = [['X'if letra in '!”#$%&()=?' else letra for letra in linea] for linea in aux3  ]\n",
    "mapafinal = [[sumador(letra) for letra in linea] for linea in aux4]\n",
    "a = str(mapafinal)\n",
    "escribir = open('arreglado.txt','w')\n",
    "escribir.write(a)"
   ]
  },
  {
   "cell_type": "code",
   "execution_count": 202,
   "metadata": {},
   "outputs": [
    {
     "data": {
      "text/plain": [
       "[['X', 2, 9, 'X', 3, 5, 15, 'X', 'X'],\n",
       " [3, 7, 'X', 8, 4, 'X', 4],\n",
       " [8, 'X', 'X', 'X', 'X', 32, 7, 'X', 12, 8, 'X'],\n",
       " ['X', 'X', 'X', 'X', 'X', 'X', 5, 'X', 8, 'X', 'X', 'X'],\n",
       " [4, 'X', 'X', 'X', 'X', 6, 'X', 13, 15, 1],\n",
       " [2, 'X', 4, 16, 'X', 'X']]"
      ]
     },
     "execution_count": 202,
     "metadata": {},
     "output_type": "execute_result"
    }
   ],
   "source": [
    "mapafinal"
   ]
  },
  {
   "cell_type": "code",
   "execution_count": 42,
   "metadata": {},
   "outputs": [],
   "source": []
  },
  {
   "cell_type": "code",
   "execution_count": 208,
   "metadata": {},
   "outputs": [
    {
     "name": "stdout",
     "output_type": "stream",
     "text": [
      "1\n",
      "2\n",
      "4\n",
      "3\n"
     ]
    }
   ],
   "source": [
    "import collections\n",
    "\n",
    "\n",
    "def breadth_first_search(graph, root): \n",
    "    visited, queue = set(), collections.deque([root])\n",
    "    while queue: \n",
    "        vertex = queue.popleft()\n",
    "        for neighbour in graph[vertex]: \n",
    "            if neighbour not in visited:\n",
    "                print(neighbour)\n",
    "                visited.add(neighbour) \n",
    "                queue.append(neighbour) \n",
    "\n",
    "\n",
    "graph = {0: [1, 2], 1: [2,4], 2: [3],3:[],4:[3]} \n",
    "breadth_first_search(graph, 0)"
   ]
  },
  {
   "cell_type": "code",
   "execution_count": null,
   "metadata": {},
   "outputs": [],
   "source": []
  },
  {
   "cell_type": "code",
   "execution_count": 183,
   "metadata": {},
   "outputs": [],
   "source": []
  },
  {
   "cell_type": "code",
   "execution_count": null,
   "metadata": {},
   "outputs": [],
   "source": []
  },
  {
   "cell_type": "code",
   "execution_count": 199,
   "metadata": {},
   "outputs": [],
   "source": []
  },
  {
   "cell_type": "code",
   "execution_count": null,
   "metadata": {},
   "outputs": [],
   "source": []
  },
  {
   "cell_type": "code",
   "execution_count": 104,
   "metadata": {},
   "outputs": [],
   "source": []
  },
  {
   "cell_type": "code",
   "execution_count": null,
   "metadata": {},
   "outputs": [],
   "source": []
  },
  {
   "cell_type": "code",
   "execution_count": null,
   "metadata": {},
   "outputs": [],
   "source": []
  },
  {
   "cell_type": "code",
   "execution_count": null,
   "metadata": {},
   "outputs": [],
   "source": []
  },
  {
   "cell_type": "code",
   "execution_count": null,
   "metadata": {},
   "outputs": [],
   "source": []
  },
  {
   "cell_type": "code",
   "execution_count": null,
   "metadata": {},
   "outputs": [],
   "source": []
  },
  {
   "cell_type": "code",
   "execution_count": null,
   "metadata": {},
   "outputs": [],
   "source": []
  },
  {
   "cell_type": "code",
   "execution_count": null,
   "metadata": {},
   "outputs": [],
   "source": []
  },
  {
   "cell_type": "code",
   "execution_count": null,
   "metadata": {},
   "outputs": [],
   "source": []
  }
 ],
 "metadata": {
  "kernelspec": {
   "display_name": "Python 3",
   "language": "python",
   "name": "python3"
  },
  "language_info": {
   "codemirror_mode": {
    "name": "ipython",
    "version": 3
   },
   "file_extension": ".py",
   "mimetype": "text/x-python",
   "name": "python",
   "nbconvert_exporter": "python",
   "pygments_lexer": "ipython3",
   "version": "3.6.4"
  }
 },
 "nbformat": 4,
 "nbformat_minor": 2
}
