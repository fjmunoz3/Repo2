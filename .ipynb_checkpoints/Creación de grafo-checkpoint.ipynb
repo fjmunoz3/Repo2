{
 "cells": [
  {
   "cell_type": "code",
   "execution_count": 34,
   "metadata": {
    "scrolled": true
   },
   "outputs": [],
   "source": [
    "matriz= [[1,2,4],[5,7,3],[1,0,7]]\n",
    "\n",
    "class Grafo:\n",
    "    def __init__(self,dimensiones=(0,0)):\n",
    "        self.nodos={}\n",
    "        self.dimensiones=dimensiones\n",
    "        \n",
    "        \n",
    "    def add_vertex(self,nodo):  #valor es una instancia de Nodo\n",
    "        self.nodos[nodo.nombre]= nodo\n",
    "        \n",
    "#    def remove_vertex(x): No creo que sea necesario\n",
    "\n",
    "    def adjacent(x,y):\n",
    "        return x in self.nodos[y.nombre].connections #si x está en las conexiones del nodo y (al cual accedemos por su nombre)\n",
    "        #esto es un booleano\n",
    "        \n",
    "    def neighbors(x):\n",
    "        return nodos[x.nombre].connections\n",
    "    \n",
    "#     def letra_a_numero(self,letra):\n",
    "#         alfabeto=\"ABCDEFGHIJKLMNOPQRSTUVWXYZ\"\n",
    "#         return alfabeto.find(letra)\n",
    "    \n",
    "    def add_neighbors(self):\n",
    "        candidatos=[(-1,-1),(0,-1),(0,1),\n",
    "                    (1,-1),(-1,0),(1,0),\n",
    "                    (-1,1),(1,1)]                    #basado en la ayudantía del 10/05\n",
    "        \n",
    "               \n",
    "        for nodo in self.nodos.values():\n",
    "            \n",
    "            #print(\"\\n Agregaremos vecinos a {} , coordenadas {}\\n\".format(nodo.nombre,nodo.coordenadas))\n",
    "            \n",
    "            for diffx,diffy in candidatos:\n",
    "                vecino_x= nodo.coordenadas[0] + diffx   #movimiento vertical\n",
    "                vecino_y= nodo.coordenadas[1] + diffy   #Movimiento horizontal\n",
    "                    \n",
    "            #recordemos que las dimensiones son (n_filas,n_columnas). x no puede ser mayor a n_columnas=dimensiones[1]\n",
    "                    \n",
    "                if (0 <= vecino_x < dimensiones[1]) and (0 <= vecino_y < dimensiones[0]):\n",
    "                    \n",
    "             #       print(\"\\n Nos movemos a {} con {}\\n\".format((vecino_x,vecino_y), (diffx,diffy)))\n",
    "                    \n",
    "                    nombre_vecino= numero_a_letra(vecino_y) + str(vecino_x)    #string del tipo \"B5\"\n",
    "                    nodo.connections.append(self.nodos[nombre_vecino])         #probablemente esto no es eficiente, veremos si podemos prescindir de él después\n",
    "\n",
    "    \n",
    "    #def add_edge(x,y):  #esto es para explicitar los costos de moverse entre x e y, usando el atributo nodo.costo\n",
    "                        #es muy importante el orden. Este eje ira de x a y\n",
    "    \n",
    "#    def get_vertex_value\n",
    "            \n",
    "class Node:\n",
    "    \n",
    "    def __init__(self, nombre, coordenadas, costo):  #nombre es A0, D3 etc.\n",
    "        self.nombre = nombre\n",
    "        self.coordenadas= coordenadas\n",
    "        self.costo = costo              #costo es un número o una X\n",
    "        self.connections = []       \n",
    "        \n",
    "    def add_neighbor(x):\n",
    "        self.connections.append(x)\n",
    "        \n",
    "#    def adjacent(self,y):\n",
    "#        return y in self.connections #esto es un booleano\n",
    "\n",
    "\n",
    "#    def add_vertex(self, value):\n",
    "        #self.connections.append(self.value)\n",
    "        \n",
    "#    def __repr__(self):\n",
    "#        l = \"Node: {} \".format(self.value)\n",
    "#        if len(self.connections) > 0:\n",
    "#            l += \"-> (\"+ \",\".join([c.__repr__() for c in self.connections]) + \")\"\n",
    "#        return l\n",
    "    \n",
    " \n",
    "#CREACIÓN DEL GRAFO\n",
    "\n",
    "#(1) Función necesaria\n",
    "def numero_a_letra(numero):                 #número no puede ser superior a 27 (número de letras del alfabeto)\n",
    "    alfabeto=\"ABCDEFGHIJKLMNOPQRSTUVWXYZ\"   #Next:completar el alfabeto\n",
    "    return alfabeto[numero]\n",
    "\n",
    "#(2)Creamos el mapa\n",
    "dimensiones=(len(matriz),len(matriz[0]))\n",
    "Mapa= Grafo(dimensiones)\n",
    "\n",
    "#(3)Llenamos el mapa\n",
    "for fila in range(len(matriz)):\n",
    "    #print(fila)\n",
    "    for columna in range(len(matriz[fila])):\n",
    "#        print(fila,columna)\n",
    "        nombre= numero_a_letra(fila) + str(columna)    #así obtenemos algo como B5, C2, etc. \n",
    "        coordenadas=(columna,fila)                     #\n",
    "        costo= matriz[fila][columna]\n",
    "        nodo= Node(nombre,coordenadas,costo)\n",
    "        Mapa.add_vertex(nodo)\n",
    "        #No sé si está listo\n",
    "\n",
    "#(4)Creamos las conexiones (cada nodo se relaciona con su vecino)\n",
    "\n",
    "\n",
    "Mapa.add_neighbors()\n",
    "\n",
    "\n",
    "# for nodo in Mapa.nodos.values():\n",
    "#     print(\"\\n Vecinos del nodo {} : \\n\".format(nodo.nombre))\n",
    "#     for vecino in nodo.connections:\n",
    "#         print(vecino.nombre)\n",
    "\n",
    "  \n",
    "#(2) Esto es un pseaudocódigo\n",
    "# for nodo in Grafo.nodos:\n",
    "#     Agregar a nodo sus conexiones(sabiendo que son los nodos\n",
    "                                 \n",
    "#     que están en las 8 direcciones)\n"
   ]
  },
  {
   "cell_type": "markdown",
   "metadata": {},
   "source": [
    "Next:\n",
    "- (1) crear la función letra número para ocuparla en la línea 54\n",
    "- (2) seguir creando el grafo\n",
    "\n",
    "Problemas a solucionar:\n",
    "    - es necesario añadir vértices? (siendo que el costo de moverse de x a y es el atributo y.costo)\n",
    "    - cómo crear el grafo, primero crear los nodos sin conexiones y después crear las conexiones?"
   ]
  },
  {
   "cell_type": "code",
   "execution_count": 2,
   "metadata": {},
   "outputs": [
    {
     "name": "stdout",
     "output_type": "stream",
     "text": [
      "9\n"
     ]
    }
   ],
   "source": [
    "def letra_a_numero(letra):\n",
    "    alfabeto=\"ABCDEFGHIJKLMNOPQRSTUVWXYZ\"\n",
    "    #alfabeto=list(alfabeto)\n",
    "    return alfabeto.find(letra)\n",
    "    \n",
    "print(letra_a_numero(\"J\"))\n",
    "    \n"
   ]
  },
  {
   "cell_type": "code",
   "execution_count": 3,
   "metadata": {},
   "outputs": [
    {
     "name": "stdout",
     "output_type": "stream",
     "text": [
      "1 2 4 3 0\n"
     ]
    }
   ],
   "source": [
    "print(Mapa.nodos[\"A0\"].costo,Mapa.nodos[\"A1\"].costo,Mapa.nodos[\"A2\"].costo,Mapa.nodos[\"B2\"].costo,Mapa.nodos[\"C1\"].costo)\n",
    "\n"
   ]
  }
 ],
 "metadata": {
  "kernelspec": {
   "display_name": "Python 3",
   "language": "python",
   "name": "python3"
  },
  "language_info": {
   "codemirror_mode": {
    "name": "ipython",
    "version": 3
   },
   "file_extension": ".py",
   "mimetype": "text/x-python",
   "name": "python",
   "nbconvert_exporter": "python",
   "pygments_lexer": "ipython3",
   "version": "3.6.4"
  }
 },
 "nbformat": 4,
 "nbformat_minor": 2
}
