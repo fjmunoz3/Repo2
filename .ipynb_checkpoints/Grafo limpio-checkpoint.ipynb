{
 "cells": [
  {
   "cell_type": "code",
   "execution_count": 37,
   "metadata": {
    "scrolled": true
   },
   "outputs": [],
   "source": [
    "from collections import deque\n",
    "texto = open('mapa.txt','r')\n",
    "a = texto.read()\n",
    "aux = a.split('\\n')\n",
    "def sumador(strin):\n",
    "    if strin != \"X\" and not strin.isnumeric():\n",
    "        spl = strin.split('+')\n",
    "\n",
    "        suma = []\n",
    "\n",
    "        def sumeta(t):\n",
    "    #        global suma\n",
    "\n",
    "            try:\n",
    "                suma.append(int(t))\n",
    "            except ValueError:\n",
    "                spl3= t.split('-')\n",
    "                suma.append(int(spl3[0])) \n",
    "                suma.append(-int(spl3[1]))\n",
    "                if len(spl3) == 3:                        \n",
    "                    suma.append(-int(spl3[2]))\n",
    "    #    return sum(suma)\n",
    "            return suma\n",
    "\n",
    "        return sum(list(map(sumeta,spl))[-1])\n",
    "\n",
    "    if strin.isnumeric():\n",
    "        return int(strin)\n",
    "    return strin\n",
    "aux2 = [x.split(',') for x in aux]\n",
    "aux3 = [list(filter(lambda x: x not in 'QWERTYUIOPASDFGHJKLZCVBNM', y.split(','))) for y in aux]\n",
    "aux4 = [['X'if letra in '!”#$%&()=?' else letra for letra in linea] for linea in aux3  ]\n",
    "mapafinal = [[sumador(letra) for letra in linea] for linea in aux4]\n",
    "a = str(mapafinal)\n",
    "escribir = open('arreglado.txt','w')\n",
    "escribir.write(a)\n",
    "\n",
    "matriz= [['X',1,4,2],[1,'X',7,3],[1,0,'X',7]]\n",
    "\n",
    "class Grafo:\n",
    "    def __init__(self,dimensiones=(0,0)):\n",
    "        self.nodos={}\n",
    "        self.dimensiones=dimensiones\n",
    "         \n",
    "    def add_vertex(self,nodo):  #valor es una instancia de Nodo\n",
    "        self.nodos[nodo.nombre]= nodo\n",
    "\n",
    "    def adjacent(x,y):\n",
    "        return x in self.nodos[y.nombre].connections #si x está en las conexiones del nodo y (al cual accedemos por su nombre)\n",
    "        #esto es un booleano\n",
    "        \n",
    "    def neighbors(x):\n",
    "        return nodos[x.nombre].connections\n",
    "    \n",
    "    def add_neighbors(self):\n",
    "        candidatos=[(-1,-1),(0,-1),(0,1),\n",
    "                    (1,-1),(-1,0),(1,0),\n",
    "                    (-1,1),(1,1)]                    #basado en la ayudantía del 10/05\n",
    "\n",
    "        for nodo in self.nodos.values():\n",
    "            \n",
    "            for diffx,diffy in candidatos:\n",
    "                vecino_x= nodo.coordenadas[0] + diffx   #movimiento vertical\n",
    "                vecino_y= nodo.coordenadas[1] + diffy   #Movimiento horizontal\n",
    "                    \n",
    "            #recordemos que las dimensiones son (n_filas,n_columnas). x no puede ser mayor a n_columnas=dimensiones[1]\n",
    "                    \n",
    "                if (0 <= vecino_x < dimensiones[1]) and (0 <= vecino_y < dimensiones[0]):\n",
    "                   \n",
    "                    nombre_vecino= numero_a_letra(vecino_y) + str(vecino_x)    #string del tipo \"B5\"\n",
    "                    nodo.connections.append(self.nodos[nombre_vecino])         #probablemente esto no es eficiente, veremos si podemos prescindir de él después\n",
    "            \n",
    "class Node:\n",
    "    \n",
    "    def __init__(self, nombre, coordenadas, costo):  #nombre es A0, D3 etc.\n",
    "        self.nombre = nombre\n",
    "        self.coordenadas= coordenadas\n",
    "        self.costo = costo              #costo es un número o una X\n",
    "        self.connections = []       \n",
    "        \n",
    "    def add_neighbor(x):\n",
    "        self.connections.append(x)\n",
    "    \n",
    " \n",
    "#CREACIÓN DEL GRAFO\n",
    "\n",
    "#(1) Función necesaria\n",
    "def numero_a_letra(numero):                 #número no puede ser superior a 27 (número de letras del alfabeto)\n",
    "    alfabeto=\"ABCDEFGHIJKLMNOPQRSTUVWXYZ\"   #Next:completar el alfabeto\n",
    "    return alfabeto[numero]\n",
    "\n",
    "#(2)Creamos el mapa\n",
    "dimensiones=(len(matriz),len(matriz[0]))\n",
    "Mapa= Grafo(dimensiones)\n",
    "\n",
    "#(3)Llenamos el mapa\n",
    "for fila in range(len(matriz)):\n",
    "    for columna in range(len(matriz[fila])):\n",
    "        nombre= numero_a_letra(fila) + str(columna)    #así obtenemos algo como B5, C2, etc. \n",
    "        coordenadas=(columna,fila)                     #\n",
    "        costo= matriz[fila][columna]\n",
    "        nodo= Node(nombre,coordenadas,costo)\n",
    "        Mapa.add_vertex(nodo)\n",
    "\n",
    "#(4)Creamos las conexiones (cada nodo se relaciona con su vecino)\n",
    "Mapa.add_neighbors()"
   ]
  },
  {
   "cell_type": "code",
   "execution_count": 22,
   "metadata": {},
   "outputs": [
    {
     "name": "stdout",
     "output_type": "stream",
     "text": [
      "A0 1 :\n",
      "B0\n",
      "A1\n",
      "B1\n",
      "\n",
      "\n",
      "A1 X :\n",
      "B1\n",
      "A0\n",
      "A2\n",
      "B0\n",
      "B2\n",
      "\n",
      "\n",
      "A2 4 :\n",
      "B2\n",
      "A1\n",
      "A3\n",
      "B1\n",
      "B3\n",
      "\n",
      "\n",
      "A3 2 :\n",
      "B3\n",
      "A2\n",
      "B2\n",
      "\n",
      "\n",
      "B0 1 :\n",
      "A0\n",
      "C0\n",
      "A1\n",
      "B1\n",
      "C1\n",
      "\n",
      "\n",
      "B1 X :\n",
      "A0\n",
      "A1\n",
      "C1\n",
      "A2\n",
      "B0\n",
      "B2\n",
      "C0\n",
      "C2\n",
      "\n",
      "\n",
      "B2 7 :\n",
      "A1\n",
      "A2\n",
      "C2\n",
      "A3\n",
      "B1\n",
      "B3\n",
      "C1\n",
      "C3\n",
      "\n",
      "\n",
      "B3 3 :\n",
      "A2\n",
      "A3\n",
      "C3\n",
      "B2\n",
      "C2\n",
      "\n",
      "\n",
      "C0 1 :\n",
      "B0\n",
      "B1\n",
      "C1\n",
      "\n",
      "\n",
      "C1 X :\n",
      "B0\n",
      "B1\n",
      "B2\n",
      "C0\n",
      "C2\n",
      "\n",
      "\n",
      "C2 0 :\n",
      "B1\n",
      "B2\n",
      "B3\n",
      "C1\n",
      "C3\n",
      "\n",
      "\n",
      "C3 7 :\n",
      "B2\n",
      "B3\n",
      "C2\n",
      "\n",
      "\n"
     ]
    }
   ],
   "source": [
    "for nodo in Mapa.nodos.values():\n",
    "    print(nodo.nombre, nodo.costo,':')\n",
    "    for i in nodo.connections:\n",
    "        print(i.nombre)\n",
    "    print('\\n')"
   ]
  },
  {
   "cell_type": "code",
   "execution_count": 5,
   "metadata": {},
   "outputs": [
    {
     "name": "stdout",
     "output_type": "stream",
     "text": [
      "[['X', 2, 9, 'X', 3, 5, 15, 'X', 'X'], [3, 7, 'X', 8, 4, 'X', 4], [8, 'X', 'X', 'X', 'X', 32, 7, 'X', 12, 8, 'X'], ['X', 'X', 'X', 'X', 'X', 'X', 5, 'X', 8, 'X', 'X', 'X'], [4, 'X', 'X', 'X', 'X', 6, 'X', 13, 15, 1], [2, 'X', 4, 16, 'X', 'X']]\n",
      "9\n",
      "7\n",
      "11\n",
      "12\n",
      "10\n",
      "6\n"
     ]
    }
   ],
   "source": [
    "print(mapafinal)\n",
    "for i in mapafinal:\n",
    "    print(len(i))"
   ]
  },
  {
   "cell_type": "code",
   "execution_count": 35,
   "metadata": {},
   "outputs": [
    {
     "name": "stdout",
     "output_type": "stream",
     "text": [
      "[['X', 1, 4, 2], [1, 'X', 7, 3], [1, 0, 'X', 7]]\n"
     ]
    }
   ],
   "source": [
    "print(matriz)"
   ]
  },
  {
   "cell_type": "code",
   "execution_count": 33,
   "metadata": {},
   "outputs": [],
   "source": [
    "def bfs_obstaculo(graph, root):     ## adaptado de stackexchange\n",
    "    visited, queue = [], [root]\n",
    "    while queue:\n",
    "        vertex = queue.pop(0)\n",
    "        for w in graph.nodos[vertex.nombre].connections:\n",
    "            if w.costo == 'X':\n",
    "                print('El obstáculo más cercano se encuentra en el punto: {}'.format(w.nombre))\n",
    "                return w.nombre\n",
    "            if w not in visited:                \n",
    "                visited.append(w)\n",
    "                queue.append(w)"
   ]
  },
  {
   "cell_type": "code",
   "execution_count": 34,
   "metadata": {},
   "outputs": [
    {
     "name": "stdout",
     "output_type": "stream",
     "text": [
      "El obstáculo más cercano se encuentra en el punto: C2\n"
     ]
    },
    {
     "data": {
      "text/plain": [
       "'C2'"
      ]
     },
     "execution_count": 34,
     "metadata": {},
     "output_type": "execute_result"
    }
   ],
   "source": [
    "bfs_obstaculo(Mapa,Mapa.nodos['C3'])"
   ]
  },
  {
   "cell_type": "code",
   "execution_count": 47,
   "metadata": {},
   "outputs": [
    {
     "name": "stdout",
     "output_type": "stream",
     "text": [
      "La ruta mas corta es: A1 -> B2 -> C3"
     ]
    },
    {
     "data": {
      "text/plain": [
       "('C3', ['B2', 'C3'])"
      ]
     },
     "execution_count": 47,
     "metadata": {},
     "output_type": "execute_result"
    }
   ],
   "source": [
    "def breadth_first_search_3(graph, start, goal):     #Gracias redblobgames\n",
    "    frontier = deque()\n",
    "    frontier.append(start)\n",
    "    came_from = {}\n",
    "    came_from[start] = None\n",
    "    \n",
    "    while frontier:\n",
    "        current = frontier.popleft()\n",
    "        \n",
    "        if current == goal:\n",
    "            \n",
    "            break\n",
    "        \n",
    "        for next in graph.nodos[current.nombre].connections:\n",
    "            if next.costo == 'X':\n",
    "                came_from[next] = None\n",
    "            if next not in came_from:\n",
    "                frontier.append(next)\n",
    "                came_from[next] = current\n",
    "    \n",
    "    return came_from\n",
    "parents = breadth_first_search_3(Mapa, Mapa.nodos['A1'], Mapa.nodos['C3'])\n",
    "\n",
    "#print(parents)\n",
    "def distancia_minima(parents,start,goal):\n",
    "    a = goal\n",
    "    i = 0\n",
    "    lista =[] \n",
    "    while a != start:\n",
    "        lista.append(a.nombre)\n",
    "        a = parents[a]\n",
    "        i+=1\n",
    "    lista.reverse()\n",
    "    print('La ruta mas corta es: {}'.format(start.nombre),end='')\n",
    "    for i in lista:\n",
    "        print(' ->',i,end='')\n",
    "    return i, lista\n",
    "distancia_minima(parents, Mapa.nodos['A1'], Mapa.nodos['C3'])\n",
    "    "
   ]
  },
  {
   "cell_type": "code",
   "execution_count": null,
   "metadata": {},
   "outputs": [],
   "source": []
  }
 ],
 "metadata": {
  "kernelspec": {
   "display_name": "Python 3",
   "language": "python",
   "name": "python3"
  },
  "language_info": {
   "codemirror_mode": {
    "name": "ipython",
    "version": 3
   },
   "file_extension": ".py",
   "mimetype": "text/x-python",
   "name": "python",
   "nbconvert_exporter": "python",
   "pygments_lexer": "ipython3",
   "version": "3.6.4"
  }
 },
 "nbformat": 4,
 "nbformat_minor": 2
}
