{
 "cells": [
  {
   "cell_type": "code",
   "execution_count": 84,
   "metadata": {
    "scrolled": true
   },
   "outputs": [
    {
     "name": "stdout",
     "output_type": "stream",
     "text": [
      "0 0\n",
      "0 1\n",
      "0 2\n",
      "1 0\n",
      "1 1\n",
      "1 2\n",
      "2 0\n",
      "2 1\n",
      "2 2\n",
      "(2, 1)\n"
     ]
    }
   ],
   "source": [
    "matriz= [[1,2,4],[5,7,3],[1,0,7]]\n",
    "\n",
    "class Grafo:\n",
    "    def __init__(self):\n",
    "        self.nodos={}\n",
    "        \n",
    "    def add_vertex(self,nodo):  #valor es una instancia de Nodo\n",
    "        self.nodos[nodo.nombre]= nodo\n",
    "        \n",
    "#    def remove_vertex(x): No creo que sea necesario\n",
    "\n",
    "    def adjacent(x,y):\n",
    "        return x in self.nodos[y.nombre].connections #si x está en las conexiones del nodo y (al cual accedemos por su nombre)\n",
    "        #esto es un booleano\n",
    "        \n",
    "    def neighbors(x):\n",
    "        return nodos[x.nombre].connections\n",
    "    \n",
    "#     def letra_a_numero(self,letra):\n",
    "#         alfabeto=\"ABCDEFGHIJKLMNOPQRSTUVWXYZ\"\n",
    "#         return alfabeto.find(letra)\n",
    "    \n",
    "    def add_neighbors(self):\n",
    "        candidatos=[(-1,-1),(0,-1),(0,1),\n",
    "                    (1,-1),(-1,0),(1,0),\n",
    "                    (-1,1),(1,1)]                    #basado en la ayudantía del 10/05\n",
    "        \n",
    "               \n",
    "        for nodo in self.nodos.keys():\n",
    "             for diffx,diffy in candidatos:\n",
    "                    coord_vecino=(nodo.coordenadas[0]+diffy,nodo.coordenadas[1]+diffx)\n",
    "                    #coord_vecino=(numero_a_letra())\n",
    "                    \n",
    "    \n",
    "    #def add_edge(x,y):  #esto es para explicitar los costos de moverse entre x e y, usando el atributo nodo.costo\n",
    "                        #es muy importante el orden. Este eje ira de x a y\n",
    "    \n",
    "#    def get_vertex_value\n",
    "            \n",
    "class Node:\n",
    "    \n",
    "    def __init__(self, nombre, coordenadas, costo):  #nombre es A0, D3 etc.\n",
    "        self.nombre = nombre\n",
    "        self.coordenadas= coordenadas\n",
    "        self.costo = costo              #costo es un número o una X\n",
    "        self.connections = []       \n",
    "        \n",
    "    def add_neighbor(x):\n",
    "        self.connections.append(x)\n",
    "        \n",
    "#    def adjacent(self,y):\n",
    "#        return y in self.connections #esto es un booleano\n",
    "\n",
    "\n",
    "#    def add_vertex(self, value):\n",
    "        #self.connections.append(self.value)\n",
    "        \n",
    "#    def __repr__(self):\n",
    "#        l = \"Node: {} \".format(self.value)\n",
    "#        if len(self.connections) > 0:\n",
    "#            l += \"-> (\"+ \",\".join([c.__repr__() for c in self.connections]) + \")\"\n",
    "#        return l\n",
    "    \n",
    " \n",
    "#CREACIÓN DEL GRAFO\n",
    "\n",
    "#(1)\n",
    "def numero_a_letra(numero):                 #número no puede ser superior a 27 (número de letras del alfabeto)\n",
    "    alfabeto=\"ABCDEFGHIJKLMNOPQRSTUVWXYZ\"   #Next:completar el alfabeto\n",
    "    return alfabeto[numero]\n",
    "\n",
    "Mapa= Grafo()\n",
    "\n",
    "#(2)\n",
    "for fila in range(len(matriz)):\n",
    "    #print(fila)\n",
    "    for columna in range(len(matriz[fila])):\n",
    "        print(fila,columna)\n",
    "        nombre= numero_a_letra(fila) + str(columna)    #así obtenemos algo como B5, C2, etc. \n",
    "        coordenadas=(fila,columna)\n",
    "        costo= matriz[fila][columna]\n",
    "        nodo= Node(nombre,coordenadas,costo)\n",
    "        Mapa.add_vertex(nodo)\n",
    "        #No sé si está listo\n",
    "        \n",
    "print(Mapa.nodos[\"C1\"].coordenadas)\n",
    "\n",
    "\n",
    "\n",
    "\n",
    "   \n",
    "#(2) Esto es un pseaudocódigo\n",
    "# for nodo in Grafo.nodos:\n",
    "#     Agregar a nodo sus conexiones(sabiendo que son los nodos\n",
    "                                 \n",
    "#     que están en las 8 direcciones)\n"
   ]
  },
  {
   "cell_type": "markdown",
   "metadata": {},
   "source": [
    "Next:\n",
    "- (1) crear la función letra número para ocuparla en la línea 54\n",
    "- (2) seguir creando el grafo\n",
    "\n",
    "Problemas a solucionar:\n",
    "    - es necesario añadir vértices? (siendo que el costo de moverse de x a y es el atributo y.costo)\n",
    "    - cómo crear el grafo, primero crear los nodos sin conexiones y después crear las conexiones?"
   ]
  },
  {
   "cell_type": "code",
   "execution_count": 77,
   "metadata": {},
   "outputs": [
    {
     "name": "stdout",
     "output_type": "stream",
     "text": [
      "9\n"
     ]
    }
   ],
   "source": [
    "def letra_a_numero(letra):\n",
    "    alfabeto=\"ABCDEFGHIJKLMNOPQRSTUVWXYZ\"\n",
    "    #alfabeto=list(alfabeto)\n",
    "    return alfabeto.find(letra)\n",
    "    \n",
    "print(letra_a_numero(\"J\"))\n",
    "    \n"
   ]
  }
 ],
 "metadata": {
  "kernelspec": {
   "display_name": "Python 3",
   "language": "python",
   "name": "python3"
  },
  "language_info": {
   "codemirror_mode": {
    "name": "ipython",
    "version": 3
   },
   "file_extension": ".py",
   "mimetype": "text/x-python",
   "name": "python",
   "nbconvert_exporter": "python",
   "pygments_lexer": "ipython3",
   "version": "3.6.4"
  }
 },
 "nbformat": 4,
 "nbformat_minor": 2
}
